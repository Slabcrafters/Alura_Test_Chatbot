{
  "nbformat": 4,
  "nbformat_minor": 0,
  "metadata": {
    "colab": {
      "provenance": [],
      "authorship_tag": "ABX9TyMbq15aPTKq3QfFlAFlWg/c",
      "include_colab_link": true
    },
    "kernelspec": {
      "name": "python3",
      "display_name": "Python 3"
    },
    "language_info": {
      "name": "python"
    }
  },
  "cells": [
    {
      "cell_type": "markdown",
      "metadata": {
        "id": "view-in-github",
        "colab_type": "text"
      },
      "source": [
        "<a href=\"https://colab.research.google.com/github/Slabcrafters/Alura_Test_Chatbot/blob/main/Untitled5.ipynb\" target=\"_parent\"><img src=\"https://colab.research.google.com/assets/colab-badge.svg\" alt=\"Open In Colab\"/></a>"
      ]
    },
    {
      "cell_type": "code",
      "execution_count": null,
      "metadata": {
        "id": "J6Pd9SFJ1yVi"
      },
      "outputs": [],
      "source": [
        "!pip install -q -U google-generativeai"
      ]
    },
    {
      "cell_type": "code",
      "source": [
        "# Import the Python SDK\n",
        "import google.generativeai as genai\n",
        "\n",
        "GOOGLE_API_KEY=('Your Key')\n",
        "genai.configure(api_key=GOOGLE_API_KEY)"
      ],
      "metadata": {
        "id": "D0CTAvyysraK"
      },
      "execution_count": 1,
      "outputs": []
    },
    {
      "cell_type": "markdown",
      "source": [
        "Listar os modelos disponiveis"
      ],
      "metadata": {
        "id": "J-RUPFZ9s2ti"
      }
    },
    {
      "cell_type": "code",
      "source": [
        "for m in genai.list_models():\n",
        "  if 'generateContent' in m.supported_generation_methods:\n",
        "    print(m.name)"
      ],
      "metadata": {
        "colab": {
          "base_uri": "https://localhost:8080/",
          "height": 138
        },
        "id": "hlCWoyvts-vN",
        "outputId": "2566ffa0-ea38-4355-9277-36c6876841e2"
      },
      "execution_count": null,
      "outputs": [
        {
          "output_type": "stream",
          "name": "stdout",
          "text": [
            "models/gemini-1.0-pro\n",
            "models/gemini-1.0-pro-001\n",
            "models/gemini-1.0-pro-latest\n",
            "models/gemini-1.0-pro-vision-latest\n",
            "models/gemini-1.5-pro-latest\n",
            "models/gemini-pro\n",
            "models/gemini-pro-vision\n"
          ]
        }
      ]
    },
    {
      "cell_type": "code",
      "source": [
        "Generation_Config = {\n",
        "    'candidate_count': 1,\n",
        "    'temperature': 0.5,\n",
        "    'top_k': 40,\n",
        "    'top_p': 0.95,\n",
        "    }"
      ],
      "metadata": {
        "id": "E7LwrMlCxBfH"
      },
      "execution_count": null,
      "outputs": []
    },
    {
      "cell_type": "code",
      "source": [
        "safety_settings = {\n",
        "    'HARASSMENT': 'BLOCK_NONE',\n",
        "    'HATE': 'BLOCK_NONE',\n",
        "    'SEXUAL': 'BLOCK_NONE',\n",
        "    'DANGEROUS': 'BLOCK_NONE'\n",
        "}"
      ],
      "metadata": {
        "id": "J8FD0c90xy1P"
      },
      "execution_count": null,
      "outputs": []
    },
    {
      "cell_type": "markdown",
      "source": [
        "Iniciando o modelo"
      ],
      "metadata": {
        "id": "Gtm_zgAMzgIt"
      }
    },
    {
      "cell_type": "code",
      "source": [
        "model = genai.GenerativeModel(model_name='gemini-1.0-pro',\n",
        "                              generation_config=Generation_Config,\n",
        "                              safety_settings=safety_settings)"
      ],
      "metadata": {
        "id": "Qs8--Nwizi3_"
      },
      "execution_count": null,
      "outputs": []
    },
    {
      "cell_type": "code",
      "source": [
        "response = model.generate_content('vamos aprender conteudo sobre IA. Me de sugestoes sobre IA')\n",
        "print(response.text)"
      ],
      "metadata": {
        "colab": {
          "base_uri": "https://localhost:8080/",
          "height": 731
        },
        "id": "yDyeSyMn1CBo",
        "outputId": "1c503429-6cb6-4179-e831-a6cd99e04829"
      },
      "execution_count": null,
      "outputs": [
        {
          "output_type": "stream",
          "name": "stdout",
          "text": [
            "**Conceitos Fundamentais:**\n",
            "\n",
            "* Definição e histórico da Inteligência Artificial (IA)\n",
            "* Tipos de IA: IA Fraca, IA Forte, IA Geral\n",
            "* Aprendizado de Máquina (ML): Conceitos, algoritmos e aplicações\n",
            "* Aprendizado Profundo (DL): Redes Neurais, Redes Convolucionais, Redes Recorrentes\n",
            "* Processamento de Linguagem Natural (PNL): Reconhecimento de Fala, Geração de Linguagem, Tradução Automática\n",
            "\n",
            "**Aplicações da IA:**\n",
            "\n",
            "* Automação e Robótica\n",
            "* Atendimento ao Cliente e Chatbots\n",
            "* Diagnóstico e Tratamento Médico\n",
            "* Veículos Autônomos e Transporte\n",
            "* Finanças e Investimentos\n",
            "* Segurança Cibernética e Detecção de Fraudes\n",
            "* Entretenimento e Mídia\n",
            "\n",
            "**Implicações Éticas e Sociais da IA:**\n",
            "\n",
            "* Preocupações com Desemprego e Desigualdade\n",
            "* Viés e Discriminação em Algoritmos de IA\n",
            "* Privacidade e Segurança de Dados\n",
            "* Responsabilidade e Regulamentação da IA\n",
            "* Impacto na Humanidade e no Futuro do Trabalho\n",
            "\n",
            "**Tendências e Avanços em IA:**\n",
            "\n",
            "* IA Conversacional e Assistentes Virtuais\n",
            "* Visão Computacional e Reconhecimento Facial\n",
            "* IA Quântica e Computação de Alto Desempenho\n",
            "* IA Explicável e Interpretável\n",
            "* IA para o Bem e Impacto Social\n",
            "\n",
            "**Recursos de Aprendizagem:**\n",
            "\n",
            "* Cursos online (Coursera, edX, Udemy)\n",
            "* Livros e Artigos (Deep Learning, Machine Learning Yearning)\n",
            "* Conferências e Eventos (ICML, NeurIPS)\n",
            "* Comunidades e Fóruns Online (Reddit, Stack Overflow)\n"
          ]
        }
      ]
    },
    {
      "cell_type": "code",
      "source": [
        "chat = model.start_chat(history=[])"
      ],
      "metadata": {
        "id": "1aAOYzvO2eSU"
      },
      "execution_count": null,
      "outputs": []
    },
    {
      "cell_type": "code",
      "source": [
        "prompt = input('Digite sua pergunta: ')\n",
        "while prompt != 'fim':\n",
        "  response = chat.send_message(prompt)\n",
        "  print('Resposta: ', response.text, '\\n')\n",
        "  prompt = input('Digite sua pergunta: ')"
      ],
      "metadata": {
        "colab": {
          "base_uri": "https://localhost:8080/",
          "height": 191
        },
        "id": "17dChkWX3CC1",
        "outputId": "7f1e61e0-cba9-4892-afb1-811070dc32c0"
      },
      "execution_count": null,
      "outputs": [
        {
          "name": "stdout",
          "output_type": "stream",
          "text": [
            "Digite sua pergunta: quem descobriu o brasil\n",
            "Resposta:  Pedro Álvares Cabral \n",
            "\n",
            "Digite sua pergunta: qual a comida tipica deste pais?\n",
            "Resposta:  Feijoada \n",
            "\n",
            "Digite sua pergunta: qual a poulacao deste pais?\n",
            "Resposta:  215,3 milhões (estimativa de 2023) \n",
            "\n",
            "Digite sua pergunta: fim\n"
          ]
        }
      ]
    },
    {
      "cell_type": "code",
      "source": [
        "chat"
      ],
      "metadata": {
        "colab": {
          "base_uri": "https://localhost:8080/"
        },
        "id": "lC-sPPUa9rum",
        "outputId": "c73f3197-f3b5-4d08-8e4d-7a02e3e87d3a"
      },
      "execution_count": null,
      "outputs": [
        {
          "output_type": "execute_result",
          "data": {
            "text/plain": [
              "ChatSession(\n",
              "    model=genai.GenerativeModel(\n",
              "        model_name='models/gemini-1.0-pro',\n",
              "        generation_config={'candidate_count': 1, 'temperature': 0.5, 'top_k': 40, 'top_p': 0.95},\n",
              "        safety_settings={<HarmCategory.HARM_CATEGORY_HARASSMENT: 7>: <HarmBlockThreshold.BLOCK_NONE: 4>, <HarmCategory.HARM_CATEGORY_HATE_SPEECH: 8>: <HarmBlockThreshold.BLOCK_NONE: 4>, <HarmCategory.HARM_CATEGORY_SEXUALLY_EXPLICIT: 9>: <HarmBlockThreshold.BLOCK_NONE: 4>, <HarmCategory.HARM_CATEGORY_DANGEROUS_CONTENT: 10>: <HarmBlockThreshold.BLOCK_NONE: 4>},\n",
              "        tools=None,\n",
              "        system_instruction=None,\n",
              "    ),\n",
              "    history=[glm.Content({'parts': [{'text': 'quem descobriu o brasil'}], 'role': 'user'}), glm.Content({'parts': [{'text': 'Pedro Álvares Cabral'}], 'role': 'model'}), glm.Content({'parts': [{'text': 'qual a comid...a deste pais?'}], 'role': 'user'}), glm.Content({'parts': [{'text': 'Feijoada'}], 'role': 'model'}), glm.Content({'parts': [{'text': 'qual a poulacao deste pais?'}], 'role': 'user'}), glm.Content({'parts': [{'text': '215,3 milhõe...tiva de 2023)'}], 'role': 'model'})]\n",
              ")"
            ]
          },
          "metadata": {},
          "execution_count": 20
        }
      ]
    },
    {
      "cell_type": "code",
      "source": [
        "chat.history"
      ],
      "metadata": {
        "colab": {
          "base_uri": "https://localhost:8080/"
        },
        "id": "epjNF1RV9Q47",
        "outputId": "a779bbed-7679-4b31-cb05-a779e4a6e417"
      },
      "execution_count": null,
      "outputs": [
        {
          "output_type": "execute_result",
          "data": {
            "text/plain": [
              "[parts {\n",
              "   text: \"quem descobriu o brasil\"\n",
              " }\n",
              " role: \"user\",\n",
              " parts {\n",
              "   text: \"Pedro \\303\\201lvares Cabral\"\n",
              " }\n",
              " role: \"model\",\n",
              " parts {\n",
              "   text: \"qual a comida tipica deste pais?\"\n",
              " }\n",
              " role: \"user\",\n",
              " parts {\n",
              "   text: \"Feijoada\"\n",
              " }\n",
              " role: \"model\",\n",
              " parts {\n",
              "   text: \"qual a poulacao deste pais?\"\n",
              " }\n",
              " role: \"user\",\n",
              " parts {\n",
              "   text: \"215,3 milh\\303\\265es (estimativa de 2023)\"\n",
              " }\n",
              " role: \"model\"]"
            ]
          },
          "metadata": {},
          "execution_count": 23
        }
      ]
    },
    {
      "cell_type": "code",
      "source": [
        "#Melhorando a visualização\n",
        "#Código disponível em https://ai.google.dev/tutorials/python/quickstart/import_packages\n",
        "import textwrap\n",
        "from IPython.display import display\n",
        "from IPython.display import Markdown\n",
        "\n",
        "def to_markdown(text):\n",
        "  \"\"\"Converte texto em markdown, envolvendo-o em um bloco de código se necessário.\"\"\"\n",
        "  text = text.replace(\"*\", \" *\")\n",
        "  return Markdown(textwrap.indent(text, \"> \", predicate=lambda _: True))\n",
        "\n",
        "#Imprimindo o histórico\n",
        "for message in chat.history:\n",
        "  message_parts = message.parts\n",
        "  display(to_markdown(f\"**{message.role}**: {message_parts[0].text}\"))\n",
        "  print(\"--------------------------------------------------\")"
      ],
      "metadata": {
        "colab": {
          "base_uri": "https://localhost:8080/",
          "height": 393
        },
        "id": "4rp3yidA5x6P",
        "outputId": "5e7f4db4-4ce1-4879-f5ec-6dc2624bff44"
      },
      "execution_count": null,
      "outputs": [
        {
          "output_type": "display_data",
          "data": {
            "text/plain": [
              "<IPython.core.display.Markdown object>"
            ],
            "text/markdown": ">  * *user * *: quem descobriu o brasil"
          },
          "metadata": {}
        },
        {
          "output_type": "stream",
          "name": "stdout",
          "text": [
            "--------------------------------------------------\n"
          ]
        },
        {
          "output_type": "display_data",
          "data": {
            "text/plain": [
              "<IPython.core.display.Markdown object>"
            ],
            "text/markdown": ">  * *model * *: Pedro Álvares Cabral"
          },
          "metadata": {}
        },
        {
          "output_type": "stream",
          "name": "stdout",
          "text": [
            "--------------------------------------------------\n"
          ]
        },
        {
          "output_type": "display_data",
          "data": {
            "text/plain": [
              "<IPython.core.display.Markdown object>"
            ],
            "text/markdown": ">  * *user * *: qual a comida tipica deste pais?"
          },
          "metadata": {}
        },
        {
          "output_type": "stream",
          "name": "stdout",
          "text": [
            "--------------------------------------------------\n"
          ]
        },
        {
          "output_type": "display_data",
          "data": {
            "text/plain": [
              "<IPython.core.display.Markdown object>"
            ],
            "text/markdown": ">  * *model * *: Feijoada"
          },
          "metadata": {}
        },
        {
          "output_type": "stream",
          "name": "stdout",
          "text": [
            "--------------------------------------------------\n"
          ]
        },
        {
          "output_type": "display_data",
          "data": {
            "text/plain": [
              "<IPython.core.display.Markdown object>"
            ],
            "text/markdown": ">  * *user * *: qual a poulacao deste pais?"
          },
          "metadata": {}
        },
        {
          "output_type": "stream",
          "name": "stdout",
          "text": [
            "--------------------------------------------------\n"
          ]
        },
        {
          "output_type": "display_data",
          "data": {
            "text/plain": [
              "<IPython.core.display.Markdown object>"
            ],
            "text/markdown": ">  * *model * *: 215,3 milhões (estimativa de 2023)"
          },
          "metadata": {}
        },
        {
          "output_type": "stream",
          "name": "stdout",
          "text": [
            "--------------------------------------------------\n"
          ]
        }
      ]
    }
  ]
}